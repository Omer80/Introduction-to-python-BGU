{
 "cells": [
  {
   "cell_type": "markdown",
   "metadata": {},
   "source": [
    "# core native types"
   ]
  },
  {
   "cell_type": "code",
   "execution_count": 1,
   "metadata": {
    "collapsed": false
   },
   "outputs": [
    {
     "data": {
      "text/plain": [
       "float"
      ]
     },
     "execution_count": 1,
     "metadata": {},
     "output_type": "execute_result"
    }
   ],
   "source": [
    "x = 1.0\n",
    "type(x)"
   ]
  },
  {
   "cell_type": "code",
   "execution_count": 2,
   "metadata": {
    "collapsed": false
   },
   "outputs": [
    {
     "data": {
      "text/plain": [
       "complex"
      ]
     },
     "execution_count": 2,
     "metadata": {},
     "output_type": "execute_result"
    }
   ],
   "source": [
    "x = 3+ 6j\n",
    "type(x)"
   ]
  },
  {
   "cell_type": "code",
   "execution_count": 3,
   "metadata": {
    "collapsed": false
   },
   "outputs": [
    {
     "data": {
      "text/plain": [
       "1.3333333333333333"
      ]
     },
     "execution_count": 3,
     "metadata": {},
     "output_type": "execute_result"
    }
   ],
   "source": [
    "4/3.0"
   ]
  },
  {
   "cell_type": "code",
   "execution_count": 4,
   "metadata": {
    "collapsed": false
   },
   "outputs": [
    {
     "data": {
      "text/plain": [
       "bool"
      ]
     },
     "execution_count": 4,
     "metadata": {},
     "output_type": "execute_result"
    }
   ],
   "source": [
    "x =True\n",
    "type(x)"
   ]
  },
  {
   "cell_type": "code",
   "execution_count": 5,
   "metadata": {
    "collapsed": false
   },
   "outputs": [
    {
     "data": {
      "text/plain": [
       "False"
      ]
     },
     "execution_count": 5,
     "metadata": {},
     "output_type": "execute_result"
    }
   ],
   "source": [
    "bool(0)"
   ]
  },
  {
   "cell_type": "code",
   "execution_count": 6,
   "metadata": {
    "collapsed": false
   },
   "outputs": [
    {
     "name": "stdout",
     "output_type": "stream",
     "text": [
      "a\n",
      "b\n",
      "a\n",
      "c87yt87cs\n"
     ]
    }
   ],
   "source": [
    "x = 'abc87yt87csachiusahuhfpiudshfsaf'\n",
    "print (x[0])\n",
    "print (x[1])\n",
    "print (x[-2])\n",
    "print (x[2:11])"
   ]
  },
  {
   "cell_type": "code",
   "execution_count": 7,
   "metadata": {
    "collapsed": false
   },
   "outputs": [
    {
     "data": {
      "text/plain": [
       "32"
      ]
     },
     "execution_count": 7,
     "metadata": {},
     "output_type": "execute_result"
    }
   ],
   "source": [
    "len(x)"
   ]
  },
  {
   "cell_type": "code",
   "execution_count": 8,
   "metadata": {
    "collapsed": false
   },
   "outputs": [
    {
     "name": "stdout",
     "output_type": "stream",
     "text": [
      "3.141\n",
      "1.0\n",
      "a\n"
     ]
    }
   ],
   "source": [
    "x, y, z  = 3.141, 1.0, 'a'\n",
    "print (x)\n",
    "print (y)\n",
    "print (z)"
   ]
  },
  {
   "cell_type": "code",
   "execution_count": 9,
   "metadata": {
    "collapsed": true
   },
   "outputs": [],
   "source": [
    "x = 3.141\n",
    "y = 1.0\n",
    "z ='a'"
   ]
  },
  {
   "cell_type": "code",
   "execution_count": 10,
   "metadata": {
    "collapsed": false
   },
   "outputs": [
    {
     "data": {
      "text/plain": [
       "1.0"
      ]
     },
     "execution_count": 10,
     "metadata": {},
     "output_type": "execute_result"
    }
   ],
   "source": [
    "y"
   ]
  },
  {
   "cell_type": "code",
   "execution_count": 11,
   "metadata": {
    "collapsed": false
   },
   "outputs": [
    {
     "data": {
      "text/plain": [
       "'a'"
      ]
     },
     "execution_count": 11,
     "metadata": {},
     "output_type": "execute_result"
    }
   ],
   "source": [
    "z"
   ]
  },
  {
   "cell_type": "markdown",
   "metadata": {},
   "source": [
    "## exercise \n",
    "\n"
   ]
  },
  {
   "cell_type": "code",
   "execution_count": 12,
   "metadata": {
    "collapsed": true
   },
   "outputs": [],
   "source": [
    "text = 'ben gurion university of the negev'"
   ]
  },
  {
   "cell_type": "markdown",
   "metadata": {},
   "source": [
    "print \n",
    "\n",
    "onion,  \n",
    "vegy"
   ]
  },
  {
   "cell_type": "code",
   "execution_count": 13,
   "metadata": {
    "collapsed": false
   },
   "outputs": [
    {
     "data": {
      "text/plain": [
       "'onion'"
      ]
     },
     "execution_count": 13,
     "metadata": {},
     "output_type": "execute_result"
    }
   ],
   "source": [
    "text[8:10]+text[7:10]"
   ]
  },
  {
   "cell_type": "code",
   "execution_count": 14,
   "metadata": {
    "collapsed": false
   },
   "outputs": [
    {
     "data": {
      "text/plain": [
       "'vegy'"
      ]
     },
     "execution_count": 14,
     "metadata": {},
     "output_type": "execute_result"
    }
   ],
   "source": [
    "text[-1]+text[-2]+text[-3]+text[-14]"
   ]
  },
  {
   "cell_type": "code",
   "execution_count": 15,
   "metadata": {
    "collapsed": false
   },
   "outputs": [
    {
     "data": {
      "text/plain": [
       "'ben gurion university of the neg'"
      ]
     },
     "execution_count": 15,
     "metadata": {},
     "output_type": "execute_result"
    }
   ],
   "source": [
    "text[:-2]"
   ]
  },
  {
   "cell_type": "markdown",
   "metadata": {},
   "source": [
    " # LIST"
   ]
  },
  {
   "cell_type": "code",
   "execution_count": 16,
   "metadata": {
    "collapsed": true
   },
   "outputs": [],
   "source": [
    "l = [1.0, 1j, 'jhdjsd', 5,6,9,7,5, 'j']"
   ]
  },
  {
   "cell_type": "code",
   "execution_count": 17,
   "metadata": {
    "collapsed": false
   },
   "outputs": [
    {
     "data": {
      "text/plain": [
       "[1.0, 1j]"
      ]
     },
     "execution_count": 17,
     "metadata": {},
     "output_type": "execute_result"
    }
   ],
   "source": [
    "l[0:2]"
   ]
  },
  {
   "cell_type": "code",
   "execution_count": 18,
   "metadata": {
    "collapsed": true
   },
   "outputs": [],
   "source": [
    "l = [[1,2,[8,9]], [4,5,6]]"
   ]
  },
  {
   "cell_type": "code",
   "execution_count": 19,
   "metadata": {
    "collapsed": false
   },
   "outputs": [
    {
     "data": {
      "text/plain": [
       "9"
      ]
     },
     "execution_count": 19,
     "metadata": {},
     "output_type": "execute_result"
    }
   ],
   "source": [
    "l[0][2][1]"
   ]
  },
  {
   "cell_type": "code",
   "execution_count": 20,
   "metadata": {
    "collapsed": false
   },
   "outputs": [
    {
     "name": "stdout",
     "output_type": "stream",
     "text": [
      "[5, 7, 9, 11, 13, 15, 17, 19, 21, 23, 25, 27, 29, 31, 33, 35, 37, 39, 41, 43, 45, 47, 49, 51, 53, 55, 57, 59, 61, 63, 65, 67, 69, 71, 73, 75, 77, 79, 81, 83, 85, 87, 89, 91, 93, 95, 97, 99]\n"
     ]
    }
   ],
   "source": [
    "l = range(5,100,2)\n",
    "print (list(l))\n",
    "# this is a range list"
   ]
  },
  {
   "cell_type": "code",
   "execution_count": 21,
   "metadata": {
    "collapsed": true
   },
   "outputs": [],
   "source": [
    "l = ['old', 'new', 'borrowed', 'blue', 6]"
   ]
  },
  {
   "cell_type": "code",
   "execution_count": 22,
   "metadata": {
    "collapsed": true
   },
   "outputs": [],
   "source": [
    "l.append('dog')"
   ]
  },
  {
   "cell_type": "code",
   "execution_count": 23,
   "metadata": {
    "collapsed": true
   },
   "outputs": [],
   "source": [
    "l.insert(2, 'cat')"
   ]
  },
  {
   "cell_type": "code",
   "execution_count": 24,
   "metadata": {
    "collapsed": false
   },
   "outputs": [
    {
     "data": {
      "text/plain": [
       "['old', 'new', 'cat', 'borrowed', 'blue', 6, 'dog', 1, 2, 3]"
      ]
     },
     "execution_count": 24,
     "metadata": {},
     "output_type": "execute_result"
    }
   ],
   "source": [
    "l.extend([1,2,3])\n",
    "l"
   ]
  },
  {
   "cell_type": "code",
   "execution_count": 25,
   "metadata": {
    "collapsed": false
   },
   "outputs": [
    {
     "data": {
      "text/plain": [
       "['old', 'cat', 'borrowed', 'blue', 6, 'dog', 1, 2, 3]"
      ]
     },
     "execution_count": 25,
     "metadata": {},
     "output_type": "execute_result"
    }
   ],
   "source": [
    "l.pop(1)\n",
    "l"
   ]
  },
  {
   "cell_type": "code",
   "execution_count": 26,
   "metadata": {
    "collapsed": true
   },
   "outputs": [],
   "source": [
    "l.remove('cat') "
   ]
  },
  {
   "cell_type": "code",
   "execution_count": 27,
   "metadata": {
    "collapsed": false
   },
   "outputs": [
    {
     "data": {
      "text/plain": [
       "6"
      ]
     },
     "execution_count": 27,
     "metadata": {},
     "output_type": "execute_result"
    }
   ],
   "source": [
    "del l[0]\n",
    "l.index(3)"
   ]
  },
  {
   "cell_type": "code",
   "execution_count": 28,
   "metadata": {
    "collapsed": false
   },
   "outputs": [
    {
     "data": {
      "text/plain": [
       "6"
      ]
     },
     "execution_count": 28,
     "metadata": {},
     "output_type": "execute_result"
    }
   ],
   "source": [
    "l.append(3)\n",
    "l.index(3)"
   ]
  },
  {
   "cell_type": "code",
   "execution_count": 29,
   "metadata": {
    "collapsed": true
   },
   "outputs": [],
   "source": [
    "x = [1,2,3]\n",
    "y = x[:]"
   ]
  },
  {
   "cell_type": "code",
   "execution_count": 30,
   "metadata": {
    "collapsed": true
   },
   "outputs": [],
   "source": [
    "y[1] = -10"
   ]
  },
  {
   "cell_type": "code",
   "execution_count": 31,
   "metadata": {
    "collapsed": false
   },
   "outputs": [
    {
     "data": {
      "text/plain": [
       "[1, 2, 3]"
      ]
     },
     "execution_count": 31,
     "metadata": {},
     "output_type": "execute_result"
    }
   ],
   "source": [
    "x"
   ]
  },
  {
   "cell_type": "code",
   "execution_count": 32,
   "metadata": {
    "collapsed": false
   },
   "outputs": [
    {
     "data": {
      "text/plain": [
       "139963394190984"
      ]
     },
     "execution_count": 32,
     "metadata": {},
     "output_type": "execute_result"
    }
   ],
   "source": [
    "id(x)"
   ]
  },
  {
   "cell_type": "markdown",
   "metadata": {},
   "source": [
    "## exercise"
   ]
  },
  {
   "cell_type": "markdown",
   "metadata": {},
   "source": [
    "create list:\n",
    "\n",
    "6.5  \n",
    "6    \n",
    "1  \n",
    "2  \n",
    "3   \n",
    "4  \n",
    "5  \n",
    "6    \n",
    "'Hello'  \n",
    "'World'\n",
    "\n",
    "- delete 'hello' if u know its position\n",
    "- delte 'hello' if u don't know position\n",
    "- add [6, 'foo', 'bad]\n",
    "- get a unique new list"
   ]
  },
  {
   "cell_type": "code",
   "execution_count": 33,
   "metadata": {
    "collapsed": false
   },
   "outputs": [
    {
     "data": {
      "text/plain": [
       "[6.5, 6, 1, 2, 3, 4, 5, 6, 'hello', 'world', 6, 'foo', 'bad']"
      ]
     },
     "execution_count": 33,
     "metadata": {},
     "output_type": "execute_result"
    }
   ],
   "source": [
    "l =[6.5, 6, 1, 2, 3, 4, 5, 6, 'hello', 'world']\n",
    "l.extend([6,'foo', 'bad'])\n",
    "l"
   ]
  },
  {
   "cell_type": "code",
   "execution_count": 34,
   "metadata": {
    "collapsed": false
   },
   "outputs": [
    {
     "data": {
      "text/plain": [
       "[6.5, 6, 1, 2, 3, 4, 5, 6, 'hello', 'world', 6, 'foo', 'bad']"
      ]
     },
     "execution_count": 34,
     "metadata": {},
     "output_type": "execute_result"
    }
   ],
   "source": [
    "l"
   ]
  },
  {
   "cell_type": "code",
   "execution_count": 35,
   "metadata": {
    "collapsed": false
   },
   "outputs": [
    {
     "data": {
      "text/plain": [
       "[6.5, 6, 1, 2, 3, 4, 5, 6, 'world', 6, 'foo', 'bad']"
      ]
     },
     "execution_count": 35,
     "metadata": {},
     "output_type": "execute_result"
    }
   ],
   "source": [
    "l.remove('hello')\n",
    "l"
   ]
  },
  {
   "cell_type": "code",
   "execution_count": 36,
   "metadata": {
    "collapsed": false
   },
   "outputs": [
    {
     "data": {
      "text/plain": [
       "6"
      ]
     },
     "execution_count": 36,
     "metadata": {},
     "output_type": "execute_result"
    }
   ],
   "source": [
    "l.pop(1)"
   ]
  },
  {
   "cell_type": "code",
   "execution_count": 37,
   "metadata": {
    "collapsed": false
   },
   "outputs": [
    {
     "data": {
      "text/plain": [
       "{1, 2, 3, 4, 5, 6.5, 6, 'world', 'foo', 'bad'}"
      ]
     },
     "execution_count": 37,
     "metadata": {},
     "output_type": "execute_result"
    }
   ],
   "source": [
    "l1 = set(l)\n",
    "l1\n",
    "# l1 = list(l1)"
   ]
  },
  {
   "cell_type": "code",
   "execution_count": 38,
   "metadata": {
    "collapsed": false
   },
   "outputs": [
    {
     "data": {
      "text/plain": [
       "{1, 2, 3, 4, 5, 6.5, 6, 'world', 'foo', 'bad'}"
      ]
     },
     "execution_count": 38,
     "metadata": {},
     "output_type": "execute_result"
    }
   ],
   "source": [
    "l1"
   ]
  },
  {
   "cell_type": "code",
   "execution_count": 39,
   "metadata": {
    "collapsed": true
   },
   "outputs": [],
   "source": [
    "l = list()"
   ]
  },
  {
   "cell_type": "code",
   "execution_count": 40,
   "metadata": {
    "collapsed": false
   },
   "outputs": [
    {
     "data": {
      "text/plain": [
       "[]"
      ]
     },
     "execution_count": 40,
     "metadata": {},
     "output_type": "execute_result"
    }
   ],
   "source": [
    "l"
   ]
  },
  {
   "cell_type": "code",
   "execution_count": 41,
   "metadata": {
    "collapsed": true
   },
   "outputs": [],
   "source": [
    "l.append('dog')"
   ]
  },
  {
   "cell_type": "code",
   "execution_count": 42,
   "metadata": {
    "collapsed": false
   },
   "outputs": [
    {
     "data": {
      "text/plain": [
       "['dog']"
      ]
     },
     "execution_count": 42,
     "metadata": {},
     "output_type": "execute_result"
    }
   ],
   "source": [
    "l"
   ]
  },
  {
   "cell_type": "markdown",
   "metadata": {},
   "source": [
    "## Tuples"
   ]
  },
  {
   "cell_type": "code",
   "execution_count": 2,
   "metadata": {
    "collapsed": true
   },
   "outputs": [],
   "source": [
    "t = (1,2,3,'dog')\n"
   ]
  },
  {
   "cell_type": "code",
   "execution_count": 4,
   "metadata": {
    "collapsed": false
   },
   "outputs": [
    {
     "ename": "TypeError",
     "evalue": "'tuple' object does not support item assignment",
     "output_type": "error",
     "traceback": [
      "\u001b[0;31m---------------------------------------------------------------------------\u001b[0m",
      "\u001b[0;31mTypeError\u001b[0m                                 Traceback (most recent call last)",
      "\u001b[0;32m<ipython-input-4-56c309f1aa91>\u001b[0m in \u001b[0;36m<module>\u001b[0;34m()\u001b[0m\n\u001b[0;32m----> 1\u001b[0;31m \u001b[0mt\u001b[0m\u001b[0;34m[\u001b[0m\u001b[0;36m2\u001b[0m\u001b[0;34m]\u001b[0m \u001b[0;34m=\u001b[0m \u001b[0;36m4\u001b[0m\u001b[0;34m\u001b[0m\u001b[0m\n\u001b[0m",
      "\u001b[0;31mTypeError\u001b[0m: 'tuple' object does not support item assignment"
     ]
    }
   ],
   "source": [
    "t[2] = 4"
   ]
  },
  {
   "cell_type": "code",
   "execution_count": 5,
   "metadata": {
    "collapsed": true
   },
   "outputs": [],
   "source": [
    "t = list(t)"
   ]
  },
  {
   "cell_type": "code",
   "execution_count": 6,
   "metadata": {
    "collapsed": false
   },
   "outputs": [
    {
     "data": {
      "text/plain": [
       "[1, 2, 4, 'dog']"
      ]
     },
     "execution_count": 6,
     "metadata": {},
     "output_type": "execute_result"
    }
   ],
   "source": [
    "t[2] = 4\n",
    "t"
   ]
  },
  {
   "cell_type": "code",
   "execution_count": 45,
   "metadata": {
    "collapsed": false
   },
   "outputs": [
    {
     "data": {
      "text/plain": [
       "9"
      ]
     },
     "execution_count": 45,
     "metadata": {},
     "output_type": "execute_result"
    }
   ],
   "source": [
    "t[0]*9"
   ]
  },
  {
   "cell_type": "markdown",
   "metadata": {},
   "source": [
    "## Dictionary"
   ]
  },
  {
   "cell_type": "code",
   "execution_count": 110,
   "metadata": {
    "collapsed": false
   },
   "outputs": [
    {
     "data": {
      "text/plain": [
       "{1: 'dog'}"
      ]
     },
     "execution_count": 110,
     "metadata": {},
     "output_type": "execute_result"
    }
   ],
   "source": [
    "d = dict()\n",
    "d[1]='dog'\n",
    "d"
   ]
  },
  {
   "cell_type": "code",
   "execution_count": 111,
   "metadata": {
    "collapsed": false
   },
   "outputs": [
    {
     "data": {
      "text/plain": [
       "{1: 'dog', 2: 'cat', 3: 'bird'}"
      ]
     },
     "execution_count": 111,
     "metadata": {},
     "output_type": "execute_result"
    }
   ],
   "source": [
    "d  = {1:'dog', 2:'cat', 3:'bird'}\n",
    "d"
   ]
  },
  {
   "cell_type": "code",
   "execution_count": 112,
   "metadata": {
    "collapsed": true
   },
   "outputs": [],
   "source": [
    "d = {'2012':[1,2,3,4,5], '2013':[5,6,8,9]}"
   ]
  },
  {
   "cell_type": "code",
   "execution_count": 113,
   "metadata": {
    "collapsed": false
   },
   "outputs": [
    {
     "data": {
      "text/plain": [
       "6"
      ]
     },
     "execution_count": 113,
     "metadata": {},
     "output_type": "execute_result"
    }
   ],
   "source": [
    "d['2013'][1]"
   ]
  },
  {
   "cell_type": "code",
   "execution_count": 114,
   "metadata": {
    "collapsed": false
   },
   "outputs": [
    {
     "data": {
      "text/plain": [
       "dict_values([[1, 2, 3, 4, 5], [5, 6, 8, 9]])"
      ]
     },
     "execution_count": 114,
     "metadata": {},
     "output_type": "execute_result"
    }
   ],
   "source": [
    "d.values()"
   ]
  },
  {
   "cell_type": "code",
   "execution_count": 122,
   "metadata": {
    "collapsed": false
   },
   "outputs": [
    {
     "name": "stdout",
     "output_type": "stream",
     "text": [
      "2012 [1, 2, 3, 4, 5]\n",
      "2013 [5, 6, 8, 9]\n"
     ]
    }
   ],
   "source": [
    "for i, j in d.items():\n",
    "    print (i, j)"
   ]
  },
  {
   "cell_type": "markdown",
   "metadata": {},
   "source": [
    "## Arrays and Matrices"
   ]
  },
  {
   "cell_type": "code",
   "execution_count": 9,
   "metadata": {
    "collapsed": true
   },
   "outputs": [],
   "source": [
    "import numpy as np"
   ]
  },
  {
   "cell_type": "code",
   "execution_count": 10,
   "metadata": {
    "collapsed": false
   },
   "outputs": [
    {
     "name": "stdout",
     "output_type": "stream",
     "text": [
      "[0, 1, 2, 3, 4, 5, 6, 7, 8, 9]\n"
     ]
    }
   ],
   "source": [
    "x = list(range(10))\n",
    "print (x)\n",
    "x[0] = 1.0"
   ]
  },
  {
   "cell_type": "code",
   "execution_count": 11,
   "metadata": {
    "collapsed": false
   },
   "outputs": [
    {
     "name": "stdout",
     "output_type": "stream",
     "text": [
      "0\n",
      "1\n",
      "2\n",
      "3\n",
      "4\n",
      "5\n",
      "6\n",
      "7\n",
      "8\n",
      "9\n"
     ]
    }
   ],
   "source": [
    "# x = range(10)\n",
    "for i in range(10):\n",
    "    print (i)\n",
    "    "
   ]
  },
  {
   "cell_type": "code",
   "execution_count": 12,
   "metadata": {
    "collapsed": false
   },
   "outputs": [
    {
     "data": {
      "text/plain": [
       "matrix([[-1.55091323,  0.36869833, -0.25318046,  0.59607235,  1.43912573,\n",
       "          1.74066435,  0.2029821 ,  0.27442781, -0.48087184, -0.91908326],\n",
       "        [ 0.46693464, -1.26552213,  0.45853212,  0.36967878, -0.10769577,\n",
       "         -0.29908377, -0.73083779, -1.06537245,  0.92374129,  0.95796504],\n",
       "        [ 1.31469346, -1.89433466, -0.06019431,  0.78055075,  1.05742165,\n",
       "         -0.84805532, -0.0217779 ,  1.0214566 ,  2.0150204 , -1.56003253],\n",
       "        [-0.88995488, -0.38654779,  0.01904231,  1.01950591,  0.99708162,\n",
       "         -0.14428092, -0.26302667, -0.00326938, -0.56435966, -1.02217327],\n",
       "        [ 0.30372282, -0.10082962, -0.14789786,  0.40308444, -0.45755125,\n",
       "          0.44915066,  0.16970754, -0.82188366, -0.28100618, -1.16467894],\n",
       "        [-1.07117781, -2.10824213, -1.53917915, -0.00416011,  0.34474142,\n",
       "          3.15497717, -0.74835185, -1.38679006,  0.04876112,  0.43615942],\n",
       "        [-0.93762361,  1.21372896, -2.00905869,  0.39200635,  0.23450415,\n",
       "          0.07141913,  0.31083766, -0.73653603, -0.45978417,  0.99200908],\n",
       "        [-1.4073266 ,  1.87742288, -0.03290378,  0.78519343,  0.35748349,\n",
       "         -0.23358293, -1.37247299, -1.17370325,  0.6854203 , -1.54062384],\n",
       "        [-1.04741756, -0.53661704,  1.01410448,  0.39245739, -1.09906614,\n",
       "          0.12408048,  0.54366684,  0.2344224 , -0.790853  , -0.82812088],\n",
       "        [-1.22174191,  0.67330811, -1.27595127,  2.04412527,  0.20259342,\n",
       "         -1.56392246, -0.4277673 ,  1.26044779,  0.56628519, -0.82799597]])"
      ]
     },
     "execution_count": 12,
     "metadata": {},
     "output_type": "execute_result"
    }
   ],
   "source": [
    "A = np.array(x)\n",
    "A = np.array([x,x])\n",
    "A = np.zeros((5,5))\n",
    "A = np.random.randn(10,10) \n",
    "B = np.matrix(A)\n",
    "B"
   ]
  },
  {
   "cell_type": "code",
   "execution_count": 17,
   "metadata": {
    "collapsed": false
   },
   "outputs": [
    {
     "data": {
      "text/plain": [
       "array([[  2.40533185e+00,   1.35938456e-01,   6.41003444e-02,\n",
       "          3.55302246e-01,   2.07108287e+00,   3.02991236e+00,\n",
       "          4.12017335e-02,   7.53106227e-02,   2.31237724e-01,\n",
       "          8.44714039e-01],\n",
       "       [  2.18027959e-01,   1.60154627e+00,   2.10251702e-01,\n",
       "          1.36662403e-01,   1.15983788e-02,   8.94511022e-02,\n",
       "          5.34123883e-01,   1.13501846e+00,   8.53297963e-01,\n",
       "          9.17697010e-01],\n",
       "       [  1.72841889e+00,   3.58850380e+00,   3.62335498e-03,\n",
       "          6.09259477e-01,   1.11814055e+00,   7.19197827e-01,\n",
       "          4.74276818e-04,   1.04337359e+00,   4.06030719e+00,\n",
       "          2.43370151e+00],\n",
       "       [  7.92019689e-01,   1.49419197e-01,   3.62609446e-04,\n",
       "          1.03939230e+00,   9.94171761e-01,   2.08169825e-02,\n",
       "          6.91830275e-02,   1.06888534e-05,   3.18501831e-01,\n",
       "          1.04483820e+00],\n",
       "       [  9.22475539e-02,   1.01666120e-02,   2.18737759e-02,\n",
       "          1.62477068e-01,   2.09353147e-01,   2.01736318e-01,\n",
       "          2.88006498e-02,   6.75492754e-01,   7.89644717e-02,\n",
       "          1.35647704e+00],\n",
       "       [  1.14742189e+00,   4.44468489e+00,   2.36907245e+00,\n",
       "          1.73065209e-05,   1.18846648e-01,   9.95388092e+00,\n",
       "          5.60030492e-01,   1.92318668e+00,   2.37764674e-03,\n",
       "          1.90235043e-01],\n",
       "       [  8.79138030e-01,   1.47313800e+00,   4.03631682e+00,\n",
       "          1.53668979e-01,   5.49921946e-02,   5.10069236e-03,\n",
       "          9.66200482e-02,   5.42485330e-01,   2.11401483e-01,\n",
       "          9.84082015e-01],\n",
       "       [  1.98056816e+00,   3.52471666e+00,   1.08265875e-03,\n",
       "          6.16528730e-01,   1.27794448e-01,   5.45609848e-02,\n",
       "          1.88368211e+00,   1.37757932e+00,   4.69800983e-01,\n",
       "          2.37352181e+00],\n",
       "       [  1.09708354e+00,   2.87957843e-01,   1.02840790e+00,\n",
       "          1.54022800e-01,   1.20794638e+00,   1.53959650e-02,\n",
       "          2.95573628e-01,   5.49538628e-02,   6.25448467e-01,\n",
       "          6.85784194e-01],\n",
       "       [  1.49265329e+00,   4.53343810e-01,   1.62805166e+00,\n",
       "          4.17844811e+00,   4.10440952e-02,   2.44585347e+00,\n",
       "          1.82984865e-01,   1.58872863e+00,   3.20678915e-01,\n",
       "          6.85577325e-01]])"
      ]
     },
     "execution_count": 17,
     "metadata": {},
     "output_type": "execute_result"
    }
   ],
   "source": [
    "A*A"
   ]
  },
  {
   "cell_type": "code",
   "execution_count": 19,
   "metadata": {
    "collapsed": false
   },
   "outputs": [
    {
     "data": {
      "text/plain": [
       "(10, 10)"
      ]
     },
     "execution_count": 19,
     "metadata": {},
     "output_type": "execute_result"
    }
   ],
   "source": [
    "np.shape(B*B)"
   ]
  },
  {
   "cell_type": "code",
   "execution_count": 20,
   "metadata": {
    "collapsed": false
   },
   "outputs": [
    {
     "data": {
      "text/plain": [
       "array([[-1.55091323,  0.36869833],\n",
       "       [ 0.46693464, -1.26552213]])"
      ]
     },
     "execution_count": 20,
     "metadata": {},
     "output_type": "execute_result"
    }
   ],
   "source": [
    "A[0:2,0:2]"
   ]
  },
  {
   "cell_type": "code",
   "execution_count": 56,
   "metadata": {
    "collapsed": false
   },
   "outputs": [
    {
     "data": {
      "text/plain": [
       "matrix([[ 1.1532969 , -1.47962978,  1.31640395, -0.11573586,  0.31617403,\n",
       "          2.18135906, -2.06062943,  0.54480972,  0.74278877,  2.00274081],\n",
       "        [ 0.21877595, -2.6540568 , -0.89122174,  2.73675032,  4.42836645,\n",
       "         -0.25531162,  0.03060107,  0.14157188, -0.38563547, -3.89960465],\n",
       "        [-1.89975134, -3.91807339,  2.62366437,  6.2359805 ,  1.86622178,\n",
       "          1.54909396,  1.64207746,  4.8346372 , -0.28354067, -1.38963093],\n",
       "        [ 3.25930229, -2.56810781,  2.90606373,  7.73087716,  1.85018829,\n",
       "         -0.46091357,  2.99443279,  6.20243008,  0.11334219, -2.72542861],\n",
       "        [-4.06100978, -0.22631284, -3.65679896, -1.71805934,  6.3082346 ,\n",
       "         -1.66431375, -1.1902545 , -1.3352659 ,  2.45916165,  4.47782063],\n",
       "        [-0.34622228, -3.96553521,  0.23233261, -1.3732327 ,  3.62592835,\n",
       "         -1.03838721,  1.45486734,  1.44045858,  3.30429613,  0.36573364],\n",
       "        [-1.18633075, -3.23036795,  0.73953881,  3.63664357,  3.60442365,\n",
       "         -0.49020234, -0.28323809,  0.67149805,  0.03370116, -0.2374998 ],\n",
       "        [ 4.66222196, -0.32275667, -1.15182304, -1.9126437 ,  2.09201204,\n",
       "          1.29815978,  0.19349747,  3.8880911 ,  4.03975619,  0.94407166],\n",
       "        [ 5.63224724, -3.91495291, -1.09850587, -2.17819394,  4.64007933,\n",
       "         -3.44451479,  3.24984378,  0.10682078,  4.08371197,  3.93474368],\n",
       "        [-0.34448001,  1.34950734, -2.3221287 , -0.59319691, -0.36512438,\n",
       "          2.1729062 , -1.65268923, -2.49827367, -1.94836569,  2.07000388]])"
      ]
     },
     "execution_count": 56,
     "metadata": {},
     "output_type": "execute_result"
    }
   ],
   "source": [
    "B*B"
   ]
  },
  {
   "cell_type": "code",
   "execution_count": 57,
   "metadata": {
    "collapsed": false
   },
   "outputs": [
    {
     "data": {
      "text/plain": [
       "array([[ 1.1532969 , -1.47962978,  1.31640395, -0.11573586,  0.31617403,\n",
       "         2.18135906, -2.06062943,  0.54480972,  0.74278877,  2.00274081],\n",
       "       [ 0.21877595, -2.6540568 , -0.89122174,  2.73675032,  4.42836645,\n",
       "        -0.25531162,  0.03060107,  0.14157188, -0.38563547, -3.89960465],\n",
       "       [-1.89975134, -3.91807339,  2.62366437,  6.2359805 ,  1.86622178,\n",
       "         1.54909396,  1.64207746,  4.8346372 , -0.28354067, -1.38963093],\n",
       "       [ 3.25930229, -2.56810781,  2.90606373,  7.73087716,  1.85018829,\n",
       "        -0.46091357,  2.99443279,  6.20243008,  0.11334219, -2.72542861],\n",
       "       [-4.06100978, -0.22631284, -3.65679896, -1.71805934,  6.3082346 ,\n",
       "        -1.66431375, -1.1902545 , -1.3352659 ,  2.45916165,  4.47782063],\n",
       "       [-0.34622228, -3.96553521,  0.23233261, -1.3732327 ,  3.62592835,\n",
       "        -1.03838721,  1.45486734,  1.44045858,  3.30429613,  0.36573364],\n",
       "       [-1.18633075, -3.23036795,  0.73953881,  3.63664357,  3.60442365,\n",
       "        -0.49020234, -0.28323809,  0.67149805,  0.03370116, -0.2374998 ],\n",
       "       [ 4.66222196, -0.32275667, -1.15182304, -1.9126437 ,  2.09201204,\n",
       "         1.29815978,  0.19349747,  3.8880911 ,  4.03975619,  0.94407166],\n",
       "       [ 5.63224724, -3.91495291, -1.09850587, -2.17819394,  4.64007933,\n",
       "        -3.44451479,  3.24984378,  0.10682078,  4.08371197,  3.93474368],\n",
       "       [-0.34448001,  1.34950734, -2.3221287 , -0.59319691, -0.36512438,\n",
       "         2.1729062 , -1.65268923, -2.49827367, -1.94836569,  2.07000388]])"
      ]
     },
     "execution_count": 57,
     "metadata": {},
     "output_type": "execute_result"
    }
   ],
   "source": [
    "A.dot(A)"
   ]
  },
  {
   "cell_type": "code",
   "execution_count": 58,
   "metadata": {
    "collapsed": false
   },
   "outputs": [
    {
     "name": "stdout",
     "output_type": "stream",
     "text": [
      "10\n"
     ]
    }
   ],
   "source": [
    "print (np.shape(A)[1])"
   ]
  },
  {
   "cell_type": "code",
   "execution_count": 59,
   "metadata": {
    "collapsed": false
   },
   "outputs": [
    {
     "data": {
      "text/plain": [
       "(10, 10)"
      ]
     },
     "execution_count": 59,
     "metadata": {},
     "output_type": "execute_result"
    }
   ],
   "source": [
    "np.shape(A)"
   ]
  },
  {
   "cell_type": "code",
   "execution_count": 60,
   "metadata": {
    "collapsed": false
   },
   "outputs": [
    {
     "data": {
      "text/plain": [
       "array([[ 0.73924677, -0.34226497,  0.31983589, -0.7083783 , -0.35856184],\n",
       "       [-0.06905658, -0.26515927, -0.61538718, -0.02452211, -1.49550617],\n",
       "       [ 1.42095564,  0.21839884, -0.55468705, -0.01301945,  1.22255138],\n",
       "       [-1.27508295,  0.99221168, -0.85779137, -0.71226306, -0.79809686],\n",
       "       [-0.84331968, -0.71086633, -0.22424357, -1.39386924,  1.06776431],\n",
       "       [-0.29817494,  0.35792253, -1.17252963, -0.13273285,  0.73746402],\n",
       "       [-0.77176461,  1.77121421, -1.02321214, -2.17549593,  0.66540392],\n",
       "       [-0.81639815, -0.9142743 , -1.41005601,  0.16126341,  0.17655638],\n",
       "       [-1.45555863, -0.46509436,  0.49866623,  1.91182903,  0.71895829],\n",
       "       [-0.66744724,  0.24898201, -0.59838252, -1.48911626, -1.1921005 ],\n",
       "       [ 0.35244681, -0.27024222,  0.96667447,  0.0314531 , -0.1076643 ],\n",
       "       [ 0.03381866, -0.26267972, -0.99869056, -1.15617682,  0.58115648],\n",
       "       [ 0.09344868, -0.49851163, -0.78586586,  0.2756721 ,  1.30254627],\n",
       "       [ 0.5481184 ,  0.30153177, -0.83673318, -1.28564401, -0.51305698],\n",
       "       [-0.14279269,  0.55113858, -0.89053981, -0.08630755, -2.02112963],\n",
       "       [-0.4314806 ,  0.50912362, -1.23856485, -0.46816043,  0.11915141],\n",
       "       [-0.36829898,  2.26403374,  0.82572969, -0.4168448 , -1.3909171 ],\n",
       "       [ 0.88633128, -1.21321612, -0.56219516, -1.79814551, -0.58224204],\n",
       "       [-0.16481549, -0.27232216,  0.16956375, -0.00378013, -0.2991478 ],\n",
       "       [-0.65369242,  1.23870661,  0.80178155,  0.40993102, -1.51121083]])"
      ]
     },
     "execution_count": 60,
     "metadata": {},
     "output_type": "execute_result"
    }
   ],
   "source": [
    "A.reshape((20,5))  "
   ]
  },
  {
   "cell_type": "code",
   "execution_count": 61,
   "metadata": {
    "collapsed": false
   },
   "outputs": [
    {
     "data": {
      "text/plain": [
       "array([[ 0. ,  0.5,  1. ,  1.5,  2. ],\n",
       "       [ 2.5,  3. ,  3.5,  4. ,  4.5],\n",
       "       [ 0. ,  0.5,  1. ,  1.5,  2. ],\n",
       "       [ 2.5,  3. ,  3.5,  4. ,  4.5]])"
      ]
     },
     "execution_count": 61,
     "metadata": {},
     "output_type": "execute_result"
    }
   ],
   "source": [
    "A = np.arange(0, 5, 0.5)\n",
    "A = A.reshape((2,5))\n",
    "np.concatenate((A,A), axis=0)"
   ]
  },
  {
   "cell_type": "code",
   "execution_count": 62,
   "metadata": {
    "collapsed": false
   },
   "outputs": [
    {
     "data": {
      "text/plain": [
       "array([[ 0. ,  0.5,  1. ,  1.5,  2. ,  0. ,  0.5,  1. ,  1.5,  2. ],\n",
       "       [ 2.5,  3. ,  3.5,  4. ,  4.5,  2.5,  3. ,  3.5,  4. ,  4.5]])"
      ]
     },
     "execution_count": 62,
     "metadata": {},
     "output_type": "execute_result"
    }
   ],
   "source": [
    "np.concatenate((A,A), axis=1)"
   ]
  },
  {
   "cell_type": "code",
   "execution_count": 63,
   "metadata": {
    "collapsed": false
   },
   "outputs": [
    {
     "data": {
      "text/plain": [
       "array([[ 0. ,  0.5,  1. ,  1.5,  2. ,  0. ,  0.5,  1. ,  1.5,  2. ],\n",
       "       [ 2.5,  3. ,  3.5,  4. ,  4.5,  2.5,  3. ,  3.5,  4. ,  4.5]])"
      ]
     },
     "execution_count": 63,
     "metadata": {},
     "output_type": "execute_result"
    }
   ],
   "source": [
    "np.hstack((A,A))"
   ]
  },
  {
   "cell_type": "code",
   "execution_count": 64,
   "metadata": {
    "collapsed": true
   },
   "outputs": [],
   "source": [
    "A[0,:] = np.nan"
   ]
  },
  {
   "cell_type": "code",
   "execution_count": 65,
   "metadata": {
    "collapsed": false
   },
   "outputs": [
    {
     "data": {
      "text/plain": [
       "nan"
      ]
     },
     "execution_count": 65,
     "metadata": {},
     "output_type": "execute_result"
    }
   ],
   "source": [
    "A.mean()"
   ]
  },
  {
   "cell_type": "code",
   "execution_count": 66,
   "metadata": {
    "collapsed": false
   },
   "outputs": [
    {
     "data": {
      "text/plain": [
       "array([[ 1.,  0.,  0.,  0.,  0.],\n",
       "       [ 0.,  1.,  0.,  0.,  0.],\n",
       "       [ 0.,  0.,  1.,  0.,  0.],\n",
       "       [ 0.,  0.,  0.,  1.,  0.],\n",
       "       [ 0.,  0.,  0.,  0.,  1.]])"
      ]
     },
     "execution_count": 66,
     "metadata": {},
     "output_type": "execute_result"
    }
   ],
   "source": [
    "np.eye(5)"
   ]
  },
  {
   "cell_type": "markdown",
   "metadata": {},
   "source": [
    "## MATH"
   ]
  },
  {
   "cell_type": "code",
   "execution_count": 67,
   "metadata": {
    "collapsed": false
   },
   "outputs": [
    {
     "data": {
      "text/plain": [
       "2.0"
      ]
     },
     "execution_count": 67,
     "metadata": {},
     "output_type": "execute_result"
    }
   ],
   "source": [
    "1.0 +1"
   ]
  },
  {
   "cell_type": "code",
   "execution_count": 68,
   "metadata": {
    "collapsed": false
   },
   "outputs": [
    {
     "data": {
      "text/plain": [
       "20.0"
      ]
     },
     "execution_count": 68,
     "metadata": {},
     "output_type": "execute_result"
    }
   ],
   "source": [
    "4*5.0"
   ]
  },
  {
   "cell_type": "code",
   "execution_count": 69,
   "metadata": {
    "collapsed": false
   },
   "outputs": [
    {
     "data": {
      "text/plain": [
       "1.25"
      ]
     },
     "execution_count": 69,
     "metadata": {},
     "output_type": "execute_result"
    }
   ],
   "source": [
    "5.0/4"
   ]
  },
  {
   "cell_type": "code",
   "execution_count": 70,
   "metadata": {
    "collapsed": false
   },
   "outputs": [
    {
     "data": {
      "text/plain": [
       "25.0"
      ]
     },
     "execution_count": 70,
     "metadata": {},
     "output_type": "execute_result"
    }
   ],
   "source": [
    "5.0**2"
   ]
  },
  {
   "cell_type": "code",
   "execution_count": 71,
   "metadata": {
    "collapsed": false
   },
   "outputs": [
    {
     "data": {
      "text/plain": [
       "1"
      ]
     },
     "execution_count": 71,
     "metadata": {},
     "output_type": "execute_result"
    }
   ],
   "source": [
    "4 % 3"
   ]
  },
  {
   "cell_type": "code",
   "execution_count": 72,
   "metadata": {
    "collapsed": false
   },
   "outputs": [
    {
     "data": {
      "text/plain": [
       "array([[ nan,  nan,  nan,  nan,  nan],\n",
       "       [  5.,   6.,   7.,   8.,   9.]])"
      ]
     },
     "execution_count": 72,
     "metadata": {},
     "output_type": "execute_result"
    }
   ],
   "source": [
    "A + A"
   ]
  },
  {
   "cell_type": "code",
   "execution_count": 24,
   "metadata": {
    "collapsed": true
   },
   "outputs": [],
   "source": [
    "import matplotlib.pyplot as plt\n",
    "import seaborn as sb\n",
    "%matplotlib inline\n"
   ]
  },
  {
   "cell_type": "code",
   "execution_count": 25,
   "metadata": {
    "collapsed": false
   },
   "outputs": [
    {
     "data": {
      "text/plain": [
       "[<matplotlib.lines.Line2D at 0x7fc642d52dd8>]"
      ]
     },
     "execution_count": 25,
     "metadata": {},
     "output_type": "execute_result"
    },
    {
     "data": {
      "image/png": "[encoded data removed]",
      "text/plain": [
       "<matplotlib.figure.Figure at 0x7fc642e015c0>"
      ]
     },
     "metadata": {},
     "output_type": "display_data"
    }
   ],
   "source": [
    "B = np.random.randn(100)\n",
    "plt.plot(B)"
   ]
  },
  {
   "cell_type": "code",
   "execution_count": 26,
   "metadata": {
    "collapsed": false
   },
   "outputs": [
    {
     "data": {
      "text/plain": [
       "[<matplotlib.lines.Line2D at 0x7fc642c17b00>]"
      ]
     },
     "execution_count": 26,
     "metadata": {},
     "output_type": "execute_result"
    },
    {
     "data": {
      "image/png": "[encoded data removed]",
      "text/plain": [
       "<matplotlib.figure.Figure at 0x7fc642caaba8>"
      ]
     },
     "metadata": {},
     "output_type": "display_data"
    }
   ],
   "source": [
    "B1 = np.cumsum(B)\n",
    "plt.plot(B1)"
   ]
  },
  {
   "cell_type": "code",
   "execution_count": 27,
   "metadata": {
    "collapsed": false
   },
   "outputs": [
    {
     "data": {
      "text/plain": [
       "[<matplotlib.lines.Line2D at 0x7fc642bc9080>]"
      ]
     },
     "execution_count": 27,
     "metadata": {},
     "output_type": "execute_result"
    },
    {
     "data": {
      "image/png": "[encoded data removed]",
      "text/plain": [
       "<matplotlib.figure.Figure at 0x7fc642c48ef0>"
      ]
     },
     "metadata": {},
     "output_type": "display_data"
    }
   ],
   "source": [
    "B2 = np.diff(B)\n",
    "plt.plot(B2)"
   ]
  },
  {
   "cell_type": "markdown",
   "metadata": {},
   "source": [
    "Exercise"
   ]
  },
  {
   "cell_type": "markdown",
   "metadata": {},
   "source": [
    "compute the exp of y = [ln(0.5), ln(1.0), ln(e)]\n",
    "\n",
    "help:\n",
    "\n",
    "ln = np.log   \n",
    "e = np.e"
   ]
  },
  {
   "cell_type": "code",
   "execution_count": 28,
   "metadata": {
    "collapsed": false
   },
   "outputs": [
    {
     "data": {
      "text/plain": [
       "array([-0.69314718,  0.        ,  1.        ])"
      ]
     },
     "execution_count": 28,
     "metadata": {},
     "output_type": "execute_result"
    }
   ],
   "source": [
    "y = np.array([np.log(0.5), np.log(1.0), np.log(np.e)])\n",
    "y "
   ]
  },
  {
   "cell_type": "code",
   "execution_count": 29,
   "metadata": {
    "collapsed": false
   },
   "outputs": [
    {
     "data": {
      "text/plain": [
       "array([ 0.5       ,  1.        ,  2.71828183])"
      ]
     },
     "execution_count": 29,
     "metadata": {},
     "output_type": "execute_result"
    }
   ],
   "source": [
    "np.exp(y)"
   ]
  },
  {
   "cell_type": "markdown",
   "metadata": {},
   "source": [
    "## LOGICAL OPERATORS\n",
    "\n",
    "> \n",
    "<,  \n",
    "=>,  \n",
    "=<,   \n",
    "==,   \n",
    "!="
   ]
  },
  {
   "cell_type": "code",
   "execution_count": 30,
   "metadata": {
    "collapsed": false
   },
   "outputs": [
    {
     "data": {
      "text/plain": [
       "False"
      ]
     },
     "execution_count": 30,
     "metadata": {},
     "output_type": "execute_result"
    }
   ],
   "source": [
    "4 == 3"
   ]
  },
  {
   "cell_type": "code",
   "execution_count": 38,
   "metadata": {
    "collapsed": true
   },
   "outputs": [],
   "source": [
    "A = np.array([np.nan , .3, 4.3, 5])"
   ]
  },
  {
   "cell_type": "code",
   "execution_count": 41,
   "metadata": {
    "collapsed": false
   },
   "outputs": [
    {
     "name": "stderr",
     "output_type": "stream",
     "text": [
      "/home/theodor/anaconda3/lib/python3.6/site-packages/ipykernel_launcher.py:1: RuntimeWarning: invalid value encountered in greater\n",
      "  \"\"\"Entry point for launching an IPython kernel.\n"
     ]
    },
    {
     "data": {
      "text/plain": [
       "array([False, False,  True,  True], dtype=bool)"
      ]
     },
     "execution_count": 41,
     "metadata": {},
     "output_type": "execute_result"
    }
   ],
   "source": [
    "A>3.0"
   ]
  },
  {
   "cell_type": "code",
   "execution_count": 39,
   "metadata": {
    "collapsed": false
   },
   "outputs": [
    {
     "data": {
      "text/plain": [
       "array([False,  True,  True], dtype=bool)"
      ]
     },
     "execution_count": 39,
     "metadata": {},
     "output_type": "execute_result"
    }
   ],
   "source": [
    "A[~np.isnan(A)] > 3"
   ]
  },
  {
   "cell_type": "code",
   "execution_count": 82,
   "metadata": {
    "collapsed": false
   },
   "outputs": [
    {
     "name": "stderr",
     "output_type": "stream",
     "text": [
      "/home/theodor/anaconda2/envs/ipykernel_py3/lib/python3.6/site-packages/ipykernel/__main__.py:1: RuntimeWarning: invalid value encountered in greater\n",
      "  if __name__ == '__main__':\n"
     ]
    },
    {
     "data": {
      "text/plain": [
       "array([ 3.5,  4. ,  4.5])"
      ]
     },
     "execution_count": 82,
     "metadata": {},
     "output_type": "execute_result"
    }
   ],
   "source": [
    "A[A > 3]"
   ]
  },
  {
   "cell_type": "code",
   "execution_count": 43,
   "metadata": {
    "collapsed": false
   },
   "outputs": [
    {
     "name": "stderr",
     "output_type": "stream",
     "text": [
      "/home/theodor/anaconda3/lib/python3.6/site-packages/ipykernel_launcher.py:1: RuntimeWarning: invalid value encountered in greater_equal\n",
      "  \"\"\"Entry point for launching an IPython kernel.\n",
      "/home/theodor/anaconda3/lib/python3.6/site-packages/ipykernel_launcher.py:1: RuntimeWarning: invalid value encountered in less_equal\n",
      "  \"\"\"Entry point for launching an IPython kernel.\n"
     ]
    },
    {
     "data": {
      "text/plain": [
       "array([False, False, False, False], dtype=bool)"
      ]
     },
     "execution_count": 43,
     "metadata": {},
     "output_type": "execute_result"
    }
   ],
   "source": [
    "(A>=3) & (A<=4)"
   ]
  },
  {
   "cell_type": "markdown",
   "metadata": {},
   "source": [
    "## LOOPS"
   ]
  },
  {
   "cell_type": "code",
   "execution_count": 44,
   "metadata": {
    "collapsed": false
   },
   "outputs": [
    {
     "name": "stdout",
     "output_type": "stream",
     "text": [
      "0\n",
      "1\n",
      "2\n",
      "3\n",
      "4\n",
      "5\n",
      "6\n",
      "7\n",
      "8\n",
      "9\n"
     ]
    }
   ],
   "source": [
    "for i in range(10):\n",
    "    print (i)"
   ]
  },
  {
   "cell_type": "code",
   "execution_count": 45,
   "metadata": {
    "collapsed": false
   },
   "outputs": [
    {
     "name": "stdout",
     "output_type": "stream",
     "text": [
      "21\n"
     ]
    }
   ],
   "source": [
    "x = 22\n",
    "\n",
    "if x < 5.0:\n",
    "    x += 1\n",
    "elif  x>5:\n",
    "    x -= 1\n",
    "else:\n",
    "    x *= 2\n",
    "\n",
    "print (x)"
   ]
  },
  {
   "cell_type": "code",
   "execution_count": 46,
   "metadata": {
    "collapsed": false
   },
   "outputs": [
    {
     "name": "stdout",
     "output_type": "stream",
     "text": [
      "6\n",
      "11\n",
      "16\n",
      "21\n",
      "26\n",
      "31\n",
      "36\n",
      "41\n",
      "46\n",
      "51\n"
     ]
    }
   ],
   "source": [
    "x  = 1\n",
    "\n",
    "while x < 50:\n",
    "    x += 5\n",
    "    print (x)"
   ]
  },
  {
   "cell_type": "code",
   "execution_count": 109,
   "metadata": {
    "collapsed": false
   },
   "outputs": [
    {
     "name": "stdout",
     "output_type": "stream",
     "text": [
      "[1, 1]\n",
      "[1, 2]\n",
      "[1, 3]\n",
      "[1, 4]\n",
      "[1, 5]\n",
      "[1, 6]\n",
      "[1, 7]\n",
      "[1, 8]\n",
      "[1, 9]\n",
      "[1, 10]\n",
      "[2, 11]\n",
      "[2, 12]\n",
      "[2, 13]\n",
      "[2, 14]\n",
      "[2, 15]\n",
      "[2, 16]\n",
      "[2, 17]\n",
      "[2, 18]\n",
      "[2, 19]\n",
      "[2, 20]\n",
      "[3, 21]\n",
      "[3, 22]\n",
      "[3, 23]\n",
      "[3, 24]\n",
      "[3, 25]\n",
      "[3, 26]\n",
      "[3, 27]\n",
      "[3, 28]\n",
      "[3, 29]\n",
      "[3, 30]\n",
      "[4, 31]\n",
      "[4, 32]\n",
      "[4, 33]\n",
      "[4, 34]\n",
      "[4, 35]\n",
      "[4, 36]\n",
      "[4, 37]\n",
      "[4, 38]\n",
      "[4, 39]\n",
      "[4, 40]\n",
      "[5, 41]\n",
      "[5, 42]\n",
      "[5, 43]\n",
      "[5, 44]\n",
      "[5, 45]\n",
      "[5, 46]\n",
      "[5, 47]\n",
      "[5, 48]\n",
      "[5, 49]\n",
      "[5, 50]\n",
      "[6, 51]\n",
      "[6, 52]\n",
      "[6, 53]\n",
      "[6, 54]\n",
      "[6, 55]\n",
      "[6, 56]\n",
      "[6, 57]\n",
      "[6, 58]\n",
      "[6, 59]\n",
      "[6, 60]\n",
      "[7, 61]\n",
      "[7, 62]\n",
      "[7, 63]\n",
      "[7, 64]\n",
      "[7, 65]\n",
      "[7, 66]\n",
      "[7, 67]\n",
      "[7, 68]\n",
      "[7, 69]\n",
      "[7, 70]\n",
      "[8, 71]\n",
      "[8, 72]\n",
      "[8, 73]\n",
      "[8, 74]\n",
      "[8, 75]\n",
      "[8, 76]\n",
      "[8, 77]\n",
      "[8, 78]\n",
      "[8, 79]\n",
      "[8, 80]\n",
      "[9, 81]\n",
      "[9, 82]\n",
      "[9, 83]\n",
      "[9, 84]\n",
      "[9, 85]\n",
      "[9, 86]\n",
      "[9, 87]\n",
      "[9, 88]\n",
      "[9, 89]\n",
      "[9, 90]\n",
      "[10, 91]\n",
      "[10, 92]\n",
      "[10, 93]\n",
      "[10, 94]\n",
      "[10, 95]\n",
      "[10, 96]\n",
      "[10, 97]\n",
      "[10, 98]\n",
      "[10, 99]\n",
      "[10, 100]\n"
     ]
    }
   ],
   "source": [
    "l  = [0,0]\n",
    "\n",
    "for i in range(10):\n",
    "    l[0] += 1\n",
    "    for j in range(10):\n",
    "        l[1] += 1\n",
    "        print (l)"
   ]
  },
  {
   "cell_type": "code",
   "execution_count": 88,
   "metadata": {
    "collapsed": true
   },
   "outputs": [],
   "source": [
    "def mult(a,b, c = 2):\n",
    "    m = a*b*c\n",
    "    s =  a-b*c\n",
    "    return m , s"
   ]
  },
  {
   "cell_type": "code",
   "execution_count": 89,
   "metadata": {
    "collapsed": true
   },
   "outputs": [],
   "source": [
    "def ping(a):\n",
    "    if a:\n",
    "        print ('PING!!!')\n",
    "    else:\n",
    "        print ('PONG!!!')\n",
    "    return"
   ]
  },
  {
   "cell_type": "code",
   "execution_count": 90,
   "metadata": {
    "collapsed": false
   },
   "outputs": [
    {
     "name": "stdout",
     "output_type": "stream",
     "text": [
      "PONG!!!\n"
     ]
    }
   ],
   "source": [
    "ping(0)"
   ]
  },
  {
   "cell_type": "markdown",
   "metadata": {},
   "source": [
    "## PANDAS"
   ]
  },
  {
   "cell_type": "code",
   "execution_count": 2,
   "metadata": {
    "collapsed": true
   },
   "outputs": [],
   "source": [
    "import pandas as pd "
   ]
  },
  {
   "cell_type": "code",
   "execution_count": 3,
   "metadata": {
    "collapsed": true
   },
   "outputs": [],
   "source": [
    "mypath = '/home/theodor/Dropbox/PhD/IPython_Codes/Python workshop/olive.csv'\n",
    "mydf = pd.read_csv(mypath)\n",
    "mydf[['palmitic','oleic']]\n",
    "# mydf.plot()\n",
    "grp = mydf.groupby('region')\n"
   ]
  },
  {
   "cell_type": "code",
   "execution_count": 4,
   "metadata": {
    "collapsed": true
   },
   "outputs": [],
   "source": [
    "treat1 = grp.get_group(1)['oleic']\n",
    "treat2 = grp.get_group(2)['oleic']\n",
    "treat3 = grp.get_group(3)['oleic']\n",
    "from scipy import stats as stats"
   ]
  },
  {
   "cell_type": "code",
   "execution_count": 5,
   "metadata": {
    "collapsed": true
   },
   "outputs": [],
   "source": [
    "results = stats.f_oneway(treat1,treat2, treat3)"
   ]
  },
  {
   "cell_type": "code",
   "execution_count": 18,
   "metadata": {
    "collapsed": true
   },
   "outputs": [],
   "source": [
    "%matplotlib inline\n",
    "import matplotlib\n",
    "import seaborn as sb\n",
    "import numpy as np\n",
    "import matplotlib.pyplot as plt\n",
    "sb.set_context(\"talk\", font_scale=1.8)\n",
    "sb.set_style(\"whitegrid\", {\"grid.linewidth\": .3,'grid.color': \" .95\"})\n",
    "sb.set_style(\"whitegrid\", {\"grid.linewidth\": .3,'grid.color': \" .95\"})\n",
    "matplotlib.rc('font', family='FreeSerif') "
   ]
  },
  {
   "cell_type": "code",
   "execution_count": 19,
   "metadata": {
    "collapsed": false
   },
   "outputs": [
    {
     "data": {
      "text/plain": [
       "[<matplotlib.lines.Line2D at 0x7f4bfd490eb8>]"
      ]
     },
     "execution_count": 19,
     "metadata": {},
     "output_type": "execute_result"
    },
    {
     "data": {
      "image/png": "[encoded data removed]",
      "text/plain": [
       "<matplotlib.figure.Figure at 0x7f4bfd5f63c8>"
      ]
     },
     "metadata": {},
     "output_type": "display_data"
    }
   ],
   "source": [
    "x = np.arange(0,10,0.1)\n",
    "y = np.cos(x)\n",
    "\n",
    "fig, ax = plt.subplots(nrows=2,figsize=(14,7))\n",
    "ax[0].plot(x,y,'-ob',alpha=0.5,lw=4)\n",
    "ax[0].set_ylabel('y',size=20)\n",
    "ax[1].plot(x,np.sin(x),'-or',lw=4,alpha=0.5)"
   ]
  },
  {
   "cell_type": "code",
   "execution_count": 20,
   "metadata": {
    "collapsed": false
   },
   "outputs": [
    {
     "data": {
      "image/png": "[encoded data removed]",
      "text/plain": [
       "<matplotlib.figure.Figure at 0x7f4bfd554160>"
      ]
     },
     "metadata": {},
     "output_type": "display_data"
    }
   ],
   "source": [
    "fig, ax = plt.subplots(figsize=(14,7))\n",
    "ax.boxplot([treat1,treat2,treat3]);"
   ]
  },
  {
   "cell_type": "code",
   "execution_count": 21,
   "metadata": {
    "collapsed": true
   },
   "outputs": [],
   "source": [
    "start = pd.to_datetime('01/01/2012 00:00',dayfirst=True)\n",
    "end = pd.to_datetime('20/01/2012 00:00',dayfirst=True)"
   ]
  },
  {
   "cell_type": "code",
   "execution_count": 22,
   "metadata": {
    "collapsed": true
   },
   "outputs": [],
   "source": [
    "dt = pd.date_range(start, end, freq='H')\n",
    "data = np.random.randn(len(dt), 4)\n",
    "mydf = pd.DataFrame(data, index=dt,columns=['a', 'b', 'c', 'd'])"
   ]
  },
  {
   "cell_type": "code",
   "execution_count": 23,
   "metadata": {
    "collapsed": false
   },
   "outputs": [
    {
     "data": {
      "text/html": [
       "<div>\n",
       "<style>\n",
       "    .dataframe thead tr:only-child th {\n",
       "        text-align: right;\n",
       "    }\n",
       "\n",
       "    .dataframe thead th {\n",
       "        text-align: left;\n",
       "    }\n",
       "\n",
       "    .dataframe tbody tr th {\n",
       "        vertical-align: top;\n",
       "    }\n",
       "</style>\n",
       "<table border=\"1\" class=\"dataframe\">\n",
       "  <thead>\n",
       "    <tr style=\"text-align: right;\">\n",
       "      <th></th>\n",
       "      <th>a</th>\n",
       "      <th>b</th>\n",
       "      <th>c</th>\n",
       "      <th>d</th>\n",
       "    </tr>\n",
       "  </thead>\n",
       "  <tbody>\n",
       "    <tr>\n",
       "      <th>2012-01-01</th>\n",
       "      <td>-2.777439</td>\n",
       "      <td>17.412194</td>\n",
       "      <td>-9.316583</td>\n",
       "      <td>-9.471087</td>\n",
       "    </tr>\n",
       "    <tr>\n",
       "      <th>2012-01-08</th>\n",
       "      <td>16.749596</td>\n",
       "      <td>6.353976</td>\n",
       "      <td>-4.642752</td>\n",
       "      <td>-2.015081</td>\n",
       "    </tr>\n",
       "    <tr>\n",
       "      <th>2012-01-15</th>\n",
       "      <td>-14.951911</td>\n",
       "      <td>7.618769</td>\n",
       "      <td>0.398400</td>\n",
       "      <td>-24.655903</td>\n",
       "    </tr>\n",
       "  </tbody>\n",
       "</table>\n",
       "</div>"
      ],
      "text/plain": [
       "                    a          b         c          d\n",
       "2012-01-01  -2.777439  17.412194 -9.316583  -9.471087\n",
       "2012-01-08  16.749596   6.353976 -4.642752  -2.015081\n",
       "2012-01-15 -14.951911   7.618769  0.398400 -24.655903"
      ]
     },
     "execution_count": 23,
     "metadata": {},
     "output_type": "execute_result"
    }
   ],
   "source": [
    "mydf.resample('7D').apply(np.sum)"
   ]
  },
  {
   "cell_type": "code",
   "execution_count": 24,
   "metadata": {
    "collapsed": false
   },
   "outputs": [
    {
     "data": {
      "image/png": "[encoded data removed]",
      "text/plain": [
       "<matplotlib.figure.Figure at 0x7f4bfd5288d0>"
      ]
     },
     "metadata": {},
     "output_type": "display_data"
    }
   ],
   "source": [
    "from skimage import data, io, filters\n",
    "\n",
    "image = data.coins() # or any NumPy array!\n",
    "edges = filters.sobel(image)\n",
    "io.imshow(edges)\n",
    "io.show()"
   ]
  },
  {
   "cell_type": "code",
   "execution_count": null,
   "metadata": {
    "collapsed": true
   },
   "outputs": [],
   "source": []
  }
 ],
 "metadata": {
  "anaconda-cloud": {},
  "kernelspec": {
   "display_name": "Python [conda root]",
   "language": "python",
   "name": "conda-root-py"
  },
  "language_info": {
   "codemirror_mode": {
    "name": "ipython",
    "version": 2
   },
   "file_extension": ".py",
   "mimetype": "text/x-python",
   "name": "python",
   "nbconvert_exporter": "python",
   "pygments_lexer": "ipython2",
   "version": "2.7.12"
  }
 },
 "nbformat": 4,
 "nbformat_minor": 1
}
